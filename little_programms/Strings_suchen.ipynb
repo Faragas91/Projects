{
 "cells": [
  {
   "attachments": {},
   "cell_type": "markdown",
   "metadata": {},
   "source": [
    "– Eingabe:\n",
    "\n",
    "● Zu durchsuchender String\n",
    "\n",
    "● Suchwort/Pattern\n",
    "\n",
    "– Ausgabe:\n",
    "\n",
    "● Positionen des Patterns im zu durchsuchenden String\n",
    "\n",
    "● Anzahl der Vorkommen"
   ]
  },
  {
   "attachments": {},
   "cell_type": "markdown",
   "metadata": {},
   "source": [
    "– Beispiel 1\n",
    "\n",
    "● String: „Ich bin ein ich bin ein“, Pattern: „bin“\n",
    "\n",
    "● Ausgabe: 4, 16. Anzahl: 2"
   ]
  },
  {
   "attachments": {},
   "cell_type": "markdown",
   "metadata": {},
   "source": [
    "– Beispiel 2\n",
    "\n",
    "● String: „wwww“, Pattern: „ww“\n",
    "\n",
    "● Ausgabe: 0, 1, 2. Anzahl: 3"
   ]
  },
  {
   "attachments": {},
   "cell_type": "markdown",
   "metadata": {},
   "source": [
    "– Beispiel 3\n",
    "\n",
    "● String: „abc“, Pattern: „x“\n",
    "\n",
    "● Ausgabe: Nicht gefunden"
   ]
  },
  {
   "cell_type": "code",
   "execution_count": 1,
   "metadata": {},
   "outputs": [],
   "source": [
    "def stringSearch(string, pattern):\n",
    "    liste = []\n",
    "\n",
    "    try:\n",
    "        for i in range(len(string)):\n",
    "            ausgabe = string.find(pattern, i)\n",
    "            if ausgabe != -1:\n",
    "                liste.append(ausgabe)\n",
    "                index = list(set(liste))\n",
    "                index.sort()\n",
    "        return index, len(index)\n",
    "\n",
    "    except UnboundLocalError:\n",
    "        print(\"Nicht gefunden\")\n",
    "    \n"
   ]
  },
  {
   "cell_type": "code",
   "execution_count": 2,
   "metadata": {},
   "outputs": [
    {
     "name": "stdout",
     "output_type": "stream",
     "text": [
      "([4, 16], 2)\n",
      "([0, 1, 2], 3)\n",
      "Nicht gefunden\n",
      "None\n"
     ]
    }
   ],
   "source": [
    "print(stringSearch(\"Ich bin ein ich bin ein\", \"bin ein\"))\n",
    "print(stringSearch(\"wwww\", \"ww\"))\n",
    "print(stringSearch(\"abc\", \"x\"))"
   ]
  }
 ],
 "metadata": {
  "kernelspec": {
   "display_name": "base",
   "language": "python",
   "name": "python3"
  },
  "language_info": {
   "codemirror_mode": {
    "name": "ipython",
    "version": 3
   },
   "file_extension": ".py",
   "mimetype": "text/x-python",
   "name": "python",
   "nbconvert_exporter": "python",
   "pygments_lexer": "ipython3",
   "version": "3.11.5"
  },
  "orig_nbformat": 4
 },
 "nbformat": 4,
 "nbformat_minor": 2
}
