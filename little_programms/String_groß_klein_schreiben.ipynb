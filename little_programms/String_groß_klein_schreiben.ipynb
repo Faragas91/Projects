{
 "cells": [
  {
   "attachments": {},
   "cell_type": "markdown",
   "metadata": {},
   "source": [
    "– Eingabe eines Texts, z.B. „dAS ist EIn TesT“\n",
    "\n",
    "– Ausgabe jedes Wort mit großem Anfangsbuchstaben und sonst nur Kleinbuchstaben, z.B. „Das Ist Ein Test“"
   ]
  },
  {
   "cell_type": "code",
   "execution_count": 1,
   "metadata": {},
   "outputs": [
    {
     "name": "stdout",
     "output_type": "stream",
     "text": [
      "Das Ist Ein Test\n"
     ]
    }
   ],
   "source": [
    "Text = \"dAS ist EIn TesT\"\n",
    "Text = Text.lower()\n",
    "outText = \"\"\n",
    "n_Text = True\n",
    "\n",
    "for i in range(len(Text)):\n",
    "    if n_Text:\n",
    "        outText += Text[i].upper()\n",
    "        n_Text = False\n",
    "        \n",
    "    else:\n",
    "        outText += Text[i].lower()\n",
    "\n",
    "    if Text[i].isspace():\n",
    "        n_Text = True\n",
    "\n",
    "print(outText)\n"
   ]
  },
  {
   "cell_type": "code",
   "execution_count": null,
   "metadata": {},
   "outputs": [],
   "source": []
  }
 ],
 "metadata": {
  "kernelspec": {
   "display_name": "base",
   "language": "python",
   "name": "python3"
  },
  "language_info": {
   "codemirror_mode": {
    "name": "ipython",
    "version": 3
   },
   "file_extension": ".py",
   "mimetype": "text/x-python",
   "name": "python",
   "nbconvert_exporter": "python",
   "pygments_lexer": "ipython3",
   "version": "3.11.5"
  },
  "orig_nbformat": 4
 },
 "nbformat": 4,
 "nbformat_minor": 2
}
