{
 "cells": [
  {
   "attachments": {},
   "cell_type": "markdown",
   "metadata": {},
   "source": [
    "– Leeres Array initialisieren (z.B. int numbers[15];)\n",
    "\n",
    "– Array mit Zufallszahlen (1-100) füllen\n",
    "\n",
    "– Bubble Sort\n",
    "\n",
    "    ● Aufeinanderfolgende Elemente vertauschen, wenn diese in der falschen Reihenfolge sind\n",
    "    ● Wiederholen, solange ein Tausch stattgefunden hat\n",
    "\n",
    "\n",
    "– Insertion Sort\n",
    "\n",
    "    ● Suche kleinstes Element und gib es an die erste Stelle in einem zweiten Array\n",
    "    ● Wiederholen, aber eingefügte Elemente nicht erneut einfügen\n",
    "\n",
    "    \n",
    "– Array vor und nach Sortierung ausgeben"
   ]
  },
  {
   "attachments": {},
   "cell_type": "markdown",
   "metadata": {},
   "source": [
    "# Bubble Sort"
   ]
  },
  {
   "cell_type": "code",
   "execution_count": 2,
   "metadata": {},
   "outputs": [
    {
     "name": "stdout",
     "output_type": "stream",
     "text": [
      "Vorher:  [96, 76, 98, 69, 67, 28, 25, 57, 73, 53, 42, 11, 72, 7, 8]\n",
      "Nachher: [7, 8, 11, 25, 28, 42, 53, 57, 67, 69, 72, 73, 76, 96, 98]\n"
     ]
    }
   ],
   "source": [
    "from random import randint\n",
    "\n",
    "bubble = []\n",
    "\n",
    "for _ in range(15):\n",
    "    bubble.append(randint(1, 100))\n",
    "\n",
    "print(\"Vorher:  \" + str(bubble))\n",
    "\n",
    "for i in range(len(bubble)):\n",
    "    for j in range(i + 1, len(bubble)): \n",
    "        if bubble[i] > bubble[j]:\n",
    "            bubble[i], bubble[j] = bubble[j], bubble[i]\n",
    "\n",
    "print(\"Nachher: \" + str(bubble))\n"
   ]
  },
  {
   "attachments": {},
   "cell_type": "markdown",
   "metadata": {},
   "source": [
    "# Insertion Sort"
   ]
  },
  {
   "cell_type": "code",
   "execution_count": 3,
   "metadata": {},
   "outputs": [
    {
     "name": "stdout",
     "output_type": "stream",
     "text": [
      "Vorher:  [31, 41, 52, 92, 96, 4, 34, 81, 50, 31, 17, 35, 81, 62, 89]\n",
      "Nachher: [4, 17, 31, 31, 34, 35, 41, 50, 52, 62, 81, 81, 89, 92, 96]\n"
     ]
    }
   ],
   "source": [
    "liste = []\n",
    "insert = []\n",
    "for _ in range(15):\n",
    "    liste.append(randint(1, 100))\n",
    "\n",
    "print(\"Vorher:  \" + str(liste))\n",
    "\n",
    "while range(len(liste)):\n",
    "    min_Wert = min(liste)\n",
    "    liste.remove(min_Wert)\n",
    "    insert.append(min_Wert)\n",
    "\n",
    "print(\"Nachher: \" + str(insert))\n",
    "\n",
    "    "
   ]
  }
 ],
 "metadata": {
  "kernelspec": {
   "display_name": "base",
   "language": "python",
   "name": "python3"
  },
  "language_info": {
   "codemirror_mode": {
    "name": "ipython",
    "version": 3
   },
   "file_extension": ".py",
   "mimetype": "text/x-python",
   "name": "python",
   "nbconvert_exporter": "python",
   "pygments_lexer": "ipython3",
   "version": "3.11.5"
  },
  "orig_nbformat": 4
 },
 "nbformat": 4,
 "nbformat_minor": 2
}
