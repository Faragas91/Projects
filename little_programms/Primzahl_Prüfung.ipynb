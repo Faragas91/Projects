{
 "cells": [
  {
   "cell_type": "markdown",
   "metadata": {},
   "source": [
    "Eingabe: positive ganze Zahl, die geprüft werden soll\n",
    "Ausgabe: Handelt es sich dabei um eine Primzahl?\n",
    "\n",
    "Wenn es sich um keine Primzahl handelt, gibt das Prog ramm alle möglichen Zahlen aus,\n",
    "durch die ohne Rest geteilt werden kann (hier muss nicht darauf geachtet werden, ob die\n",
    "Teiler Primzahlen oder Nicht Primzahlen sind).\n",
    "\n",
    "Als Primzahl zählt jede Zahl, die nur durch 1 oder sich selbst ohne Rest teilbar ist.\n",
    "\n",
    "Hinweis: Der Modulo\n",
    "\n",
    "std::cout << 10 % 4; // 2 = Rest bei der Division von 10 durch 4\n",
    "\n",
    "Beispiel\n",
    "\n",
    "Outputs\n",
    "\n",
    "Geben Sie eine Zahl ein: 12\n",
    "12 ist keine Primzahl. Teiler: 2 3 4 6\n",
    "\n",
    "Geben Sie eine Zahl ein: 7\n",
    "7 ist eine Primzahl"
   ]
  },
  {
   "cell_type": "code",
   "execution_count": 1,
   "metadata": {},
   "outputs": [
    {
     "name": "stdout",
     "output_type": "stream",
     "text": [
      "5 ist eine Primzahl\n",
      "Die Teiler sind: [5]\n"
     ]
    }
   ],
   "source": [
    "versuche = 3\n",
    "i = 2\n",
    "teiler = []\n",
    "\n",
    "while versuche > 0:\n",
    "    try:\n",
    "        eingabe = int(input(\"Geben Sie hier Ihre Zahl ein: \"))\n",
    "        break \n",
    "\n",
    "    except ValueError:\n",
    "        print(\"Ihre Eingabe muss eine Zahl sein\")\n",
    "        versuche -= 1\n",
    "        print(\"Sie haben noch \" + str(versuche) + \" Versuche\")\n",
    "        if versuche == 0:\n",
    "            break\n",
    "        \n",
    "\n",
    "\n",
    "try:\n",
    "    while i <= eingabe:\n",
    "        if eingabe % i == 0:\n",
    "            teiler.append(i)\n",
    "            i += 1\n",
    "        if eingabe % i != 0:\n",
    "            i += 1\n",
    "\n",
    "    if len(teiler) == 1:\n",
    "        print(str(eingabe) + \" ist eine Primzahl\")\n",
    "    else:\n",
    "        print(str(eingabe) + \" ist keine Primzahl\")\n",
    "        teiler.remove(eingabe)\n",
    "\n",
    "                    \n",
    "    print(\"Die Teiler sind: \" + str(teiler))\n",
    "\n",
    "except NameError:\n",
    "    print(\"Die Eingabe \" + str(eingabe) + \"ist keine Zahl\")"
   ]
  }
 ],
 "metadata": {
  "kernelspec": {
   "display_name": "base",
   "language": "python",
   "name": "python3"
  },
  "language_info": {
   "codemirror_mode": {
    "name": "ipython",
    "version": 3
   },
   "file_extension": ".py",
   "mimetype": "text/x-python",
   "name": "python",
   "nbconvert_exporter": "python",
   "pygments_lexer": "ipython3",
   "version": "3.11.5"
  },
  "orig_nbformat": 4
 },
 "nbformat": 4,
 "nbformat_minor": 2
}
