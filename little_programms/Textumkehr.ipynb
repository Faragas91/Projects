{
 "cells": [
  {
   "attachments": {},
   "cell_type": "markdown",
   "metadata": {},
   "source": [
    "Eingabe: Text\n",
    "\n",
    "Ausgabe: Text, bei dem die einzelnen Worte verkehrt geschrieben sind. Hierbei soll jedes\n",
    "Wort mit einem Großbuchstaben beginnen und der Rest des Wortes klein geschrieben\n",
    "werden. Die Worte selbst bleiben jedoch in der richtigen Reihenfolge.\n",
    "\n",
    "Hci Nib Nie Iforp\"\n",
    "\n"
   ]
  },
  {
   "cell_type": "code",
   "execution_count": 1,
   "metadata": {},
   "outputs": [
    {
     "name": "stdout",
     "output_type": "stream",
     "text": [
      "Hci Nib Nie Iforp \n"
     ]
    }
   ],
   "source": [
    "text = \"Ich BIN EIN profi\"\n",
    "bla = \"\"\n",
    "\n",
    "neu_text = text.split(\" \")\n",
    "\n",
    "for i in range(0, len(neu_text)):\n",
    "    fusl = neu_text[i] [::-1] # gibt jedes einzelne Element aus der Liste zurück und dreht es um\n",
    "    bla += fusl + \" \" # jedes Wort wird in bla eingelesen und eine Leerzeichen eingefügt\n",
    "\n",
    "low_text = bla.lower()\n",
    "outText = \"\"\n",
    "n_Text = True\n",
    "\n",
    "for i in range(len(low_text)):\n",
    "    if n_Text:\n",
    "        outText += low_text[i].upper()\n",
    "        n_Text = False\n",
    "        \n",
    "    else:\n",
    "        outText += low_text[i].lower()\n",
    "\n",
    "    if low_text[i].isspace():\n",
    "        n_Text = True\n",
    "\n",
    "print(outText)\n",
    "\n"
   ]
  }
 ],
 "metadata": {
  "kernelspec": {
   "display_name": "base",
   "language": "python",
   "name": "python3"
  },
  "language_info": {
   "codemirror_mode": {
    "name": "ipython",
    "version": 3
   },
   "file_extension": ".py",
   "mimetype": "text/x-python",
   "name": "python",
   "nbconvert_exporter": "python",
   "pygments_lexer": "ipython3",
   "version": "3.11.5"
  },
  "orig_nbformat": 4
 },
 "nbformat": 4,
 "nbformat_minor": 2
}
