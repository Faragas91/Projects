{
 "cells": [
  {
   "attachments": {},
   "cell_type": "markdown",
   "metadata": {},
   "source": [
    "Eingabe: RNA-Sequenz (String, der nur aus C, G, A und U besteht)\n",
    "\n",
    "Ausgabe: ORF (inkl. Start- und Stoppcodon) pro Zeile\n",
    "\n",
    "Als Start-Codon wird AUG verwendet, als Stopp-Codon sind UAG, UGA und UAA möglich.\n",
    "\n",
    "Hinweis: Zur Vereinfachung können Sie davon ausgehen, dass es keine Überlappungen gibt und dass das Start-Codon nicht innerhalb des ORF erneut vorkommt.\n",
    "Es muss auch nicht geprüft werden, ob innerhalb des ORF nur Basen-Triplets vorkommen."
   ]
  },
  {
   "cell_type": "code",
   "execution_count": 1,
   "metadata": {},
   "outputs": [
    {
     "name": "stdout",
     "output_type": "stream",
     "text": [
      "['CUC', 'CAUACAGUGUAAGCAGGAAGU', 'UAUUUUGUAUAGGCC']\n",
      "['AUGCAUACAGUGUAAGCAGGAAGU', 'AUGUAUUUUGUAUAGGCC']\n",
      "['AUGCAUACAGUGUAA', 'AUGUAUUUUGUAUAG']\n"
     ]
    }
   ],
   "source": [
    "rna = \"CUCAUGCAUACAGUGUAAGCAGGAAGUAUGUAUUUUGUAUAGGCC\"\n",
    "new_rna = []\n",
    "start_codon = \"AUG\"\n",
    "stop_codon = [\"UAG\", \"UGA\", \"UAA\"]\n",
    "\n",
    "for i in range(0, len(rna)):\n",
    "    codon = rna[i:i+3]      \n",
    "    if codon == start_codon:\n",
    "        sub_len = rna.split(codon)\n",
    "        break\n",
    "\n",
    "for j in range(1, len(sub_len)):\n",
    "    new_rna.append(start_codon + sub_len[j]) \n",
    "\n",
    "orf_list = []  # Liste, um alle ORFs zu speichern\n",
    "\n",
    "for u in range(0, len(new_rna)):\n",
    "    bla = \"\"  # Setzen Sie den Inhalt von bla zurück\n",
    "    bla += new_rna[u]\n",
    "    for k in range(0, len(bla)):\n",
    "        codons = bla[k:k+3]\n",
    "        if codons in stop_codon:\n",
    "            orf = bla.split(codons, 1)[0] + codons\n",
    "            orf_list.append(orf)  # Hinzufügen des ORF zum Ergebnis\n",
    "            break\n",
    "\n",
    "print(sub_len)\n",
    "print(new_rna)  \n",
    "print(orf_list)\n"
   ]
  }
 ],
 "metadata": {
  "kernelspec": {
   "display_name": "base",
   "language": "python",
   "name": "python3"
  },
  "language_info": {
   "codemirror_mode": {
    "name": "ipython",
    "version": 3
   },
   "file_extension": ".py",
   "mimetype": "text/x-python",
   "name": "python",
   "nbconvert_exporter": "python",
   "pygments_lexer": "ipython3",
   "version": "3.11.5"
  },
  "orig_nbformat": 4
 },
 "nbformat": 4,
 "nbformat_minor": 2
}
