{
 "cells": [
  {
   "cell_type": "markdown",
   "metadata": {},
   "source": [
    "Erstellen Sie ein Programm, das eine beliebige DNA-Kette in ein Protein übersetzt.\n",
    "\n",
    "Das Programm liest die DNA-Kette ein und erzeugt das passende Protein (Aminosäurenkette) aus den einzelnen Codons.\n",
    "\n",
    "Sollte die Länge der DNA-Kette nicht durch 3 teilbar sein, soll das Programm einen Fehler ausgeben und beenden.\n",
    "\n",
    "Sequenzen, die zu keinem Protein passen, sollen übersprungen werden (z.B. Stopp-Codons, oder Buchstaben, die kein Nukleotid darstellen)\n",
    "\n",
    "Die Eingabe-Sequenz liegt in Großbuchstaben vor.\n",
    "\n",
    "Für die Ausgabedatei können Sie Groß-/Kleinschreibung beliebig wählen.\n",
    "\n",
    "Verwenden Sie die auf Moodle hinterlegte Mapping-Datei uebung 3 _map.txt – Diese enthält zwei Spalten: Codon und Aminosäure (getrennt durch ein Leerzeichen)\n",
    "Hinweis: Auf biologische Korrektheit muss nicht geprüft werden (Start-/Stopp-Codons, etc.)"
   ]
  },
  {
   "cell_type": "code",
   "execution_count": 7,
   "metadata": {},
   "outputs": [
    {
     "name": "stdout",
     "output_type": "stream",
     "text": [
      "Die Sequenz ist durch 3 teilbar und wird fortgesetzt\n",
      "RYAS VDVRRFERESLDS ERY\n"
     ]
    }
   ],
   "source": [
    "with open(\"uebung3_map.txt\", \"r\") as file:\n",
    "    inhalt = file.readlines()\n",
    "    inhalt = [zeile.strip() for zeile in inhalt] \n",
    "\n",
    "seq = \"cgttacgcttcctgagtggatgtacgtcgtttcgaacgcgagagtttggatagctgagagaggtac\"\n",
    "seq = seq.upper()\n",
    "stop_codon = [\"TAG\", \"TGA\", \"TAA\"]\n",
    "nukleotide = []\n",
    "\n",
    "while True:\n",
    "    if len(seq) % 3 != 0:\n",
    "        print(\"Die Sequenz ist nicht durch 3 teilbar und wird abgebrochen\")\n",
    "        break\n",
    "    else:\n",
    "        print(\"Die Sequenz ist durch 3 teilbar und wird fortgesetzt\")\n",
    "\n",
    "    for i in range(0, len(seq), 3): \n",
    "        nukleotide.append(seq[i:i+3])\n",
    "\n",
    "    protein = \"\"\n",
    "    for k in nukleotide:\n",
    "        for u in inhalt:\n",
    "            if u[:3] == k:\n",
    "                protein += u[4]\n",
    "                break\n",
    "        if k in stop_codon:\n",
    "            protein += \" \"\n",
    "    break\n",
    "\n",
    "print(protein)\n"
   ]
  }
 ],
 "metadata": {
  "kernelspec": {
   "display_name": "base",
   "language": "python",
   "name": "python3"
  },
  "language_info": {
   "codemirror_mode": {
    "name": "ipython",
    "version": 3
   },
   "file_extension": ".py",
   "mimetype": "text/x-python",
   "name": "python",
   "nbconvert_exporter": "python",
   "pygments_lexer": "ipython3",
   "version": "3.11.5"
  },
  "orig_nbformat": 4
 },
 "nbformat": 4,
 "nbformat_minor": 2
}
