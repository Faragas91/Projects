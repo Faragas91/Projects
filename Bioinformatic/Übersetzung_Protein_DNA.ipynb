{
 "cells": [
  {
   "cell_type": "markdown",
   "metadata": {},
   "source": [
    "Erstellen Sie ein Programm, das eine beliebige Aminosäurenkette in eine DNA-Sequenz übersetzt.\n",
    "\n",
    "Das Programm wird mit zwei Kommandozeilen-Argumenten gestartet:\n",
    "1. Argument ist der Dateipfad zur DNA-Aminosäuren-Mapping-Datei\n",
    "2. Argument ist die zu übersetzende Aminosäurenkette\n",
    "\n",
    "Das Programm liest die Aminosäurenkette ein und erzeugt die passende DNA-Sequenz.\n",
    "\n",
    "Buchstaben, die zu keinem Protein passen, sollen übersprungen werden.\n",
    "\n",
    "Die Eingabe-Sequenz liegt in Großschreibung vor.\n",
    "\n",
    "Für die Ausgabedatei können Sie Groß- oder Kleinschreibung beliebig wählen.\n",
    "\n",
    "Verwenden Sie die auf Moodle hinterlegte Mapping-Datei uebung 3 _map.txt – Diese enthält zwei Spalten: Codon und Aminosäure (getrennt durch ein Leerzeichen) Nachdem mehrere Codons für eine Aminosäure stehen können, können Sie aus den passenden Aminosäuren eine beliebige wählen (z.B. die erste in der Liste).\n",
    "\n",
    "Hinweis: Auf biologische Korrektheit muss nicht geprüft werden."
   ]
  },
  {
   "cell_type": "code",
   "execution_count": 1,
   "metadata": {},
   "outputs": [
    {
     "name": "stdout",
     "output_type": "stream",
     "text": [
      "ATGACAAGCGGAGCACACTGCAACCTATAA\n"
     ]
    }
   ],
   "source": [
    "import random\n",
    "\n",
    "with open(\"uebung3_map.txt\", \"r\") as file:\n",
    "    inhalt = file.readlines()\n",
    "    inhalt = [zeile.strip() for zeile in inhalt] \n",
    "\n",
    "amino = \"MTSGAHCNL \"\n",
    "stop_codon = [\"TAG\", \"TGA\", \"TAA\"]\n",
    "seq = \"\"\n",
    "\n",
    "while True:\n",
    "    for j in amino:\n",
    "        for i in inhalt:\n",
    "            if j == i[4]:\n",
    "                seq += i[:3]\n",
    "                break\n",
    "        if j == \" \":\n",
    "            seq += random.choice(stop_codon)\n",
    "    break\n",
    "\n",
    "print(seq)\n"
   ]
  }
 ],
 "metadata": {
  "kernelspec": {
   "display_name": "base",
   "language": "python",
   "name": "python3"
  },
  "language_info": {
   "codemirror_mode": {
    "name": "ipython",
    "version": 3
   },
   "file_extension": ".py",
   "mimetype": "text/x-python",
   "name": "python",
   "nbconvert_exporter": "python",
   "pygments_lexer": "ipython3",
   "version": "3.10.9"
  },
  "orig_nbformat": 4
 },
 "nbformat": 4,
 "nbformat_minor": 2
}
