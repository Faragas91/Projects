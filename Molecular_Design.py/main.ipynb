{
 "cells": [
  {
   "cell_type": "markdown",
   "metadata": {},
   "source": [
    "## RDkit\n"
   ]
  },
  {
   "cell_type": "code",
   "execution_count": 4,
   "metadata": {},
   "outputs": [
    {
     "name": "stdout",
     "output_type": "stream",
     "text": [
      "InChI: InChI=1S/C20H25N3O/c1-4-23(5-2)20(24)14-9-16-15-7-6-8-17-19(15)13(11-21-17)10-18(16)22(3)12-14/h6-9,11,14,18,21H,4-5,10,12H2,1-3H3\n"
     ]
    },
    {
     "name": "stderr",
     "output_type": "stream",
     "text": [
      "[19:55:02] WARNING: Omitted undefined stereo\n",
      "\n"
     ]
    }
   ],
   "source": [
    "from rdkit import Chem\n",
    "from rdkit.Chem import Draw\n",
    "from rdkit.Chem import AllChem  \n",
    "from rdkit.Chem import Descriptors\n",
    "\n",
    "# SMILES-Notation für LSD\n",
    "#lsd_smiles = \"CCN(CC)C(=O)C1CN(C2CC3=CC4=C(C2=C1)C=CC=C4N3)C\"\n",
    "lsd_smiles = \"CCN(CC)C(=O)C1CN(C2CC3=CNC4=CC=CC(=C34)C2=C1)C\"\n",
    "\n",
    "# Erstellen des RDKit-Moleküls aus der SMILES-Notation\n",
    "lsd_molecule = Chem.MolFromSmiles(lsd_smiles)\n",
    "\n",
    "# 2D-Strukturdarstellung als Bild speichern und anzeigen\n",
    "Draw.MolToFile(lsd_molecule, \"lsd_2d.png\")\n",
    "img_2d = Draw.MolToImage(lsd_molecule)\n",
    "img_2d.show()\n",
    "\n",
    "# InChI-Notation ausgeben\n",
    "inchi = Chem.MolToInchi(lsd_molecule)\n",
    "print(\"InChI:\", inchi)\n",
    "\n",
    "# 3D-Strukturdarstellung als Bild speichern und anzeigen\n",
    "lsd_3d_molecule = Chem.AddHs(lsd_molecule)\n",
    "AllChem.EmbedMolecule(lsd_3d_molecule)\n",
    "Draw.MolToFile(lsd_3d_molecule, \"lsd_3d.png\")\n",
    "img_3d = Draw.MolToImage(lsd_3d_molecule)\n",
    "img_3d.show()\n",
    "\n",
    "# blaljdklfjas\n"
   ]
  },
  {
   "cell_type": "code",
   "execution_count": 5,
   "metadata": {},
   "outputs": [],
   "source": [
    "# 2D-Strukturdarstellung als Mol-Datei speichern\n",
    "Chem.MolToMolFile(lsd_molecule, \"lsd_2d.mol\")\n",
    "\n",
    "# 3D-Strukturdarstellung als Mol-Datei speichern\n",
    "lsd_3d_molecule = Chem.AddHs(lsd_molecule)\n",
    "AllChem.EmbedMolecule(lsd_3d_molecule)\n",
    "Chem.MolToMolFile(lsd_3d_molecule, \"lsd_3d.mol\")"
   ]
  },
  {
   "cell_type": "markdown",
   "metadata": {},
   "source": [
    "Der Output, den du siehst, ist im MOL-Block-Format (Molecular Structure Data Exchange) geschrieben. Der MOL-Block enthält strukturelle Informationen über das Molekül. Hier ist eine Erklärung der verschiedenen Abschnitte:\n",
    "\n",
    "mathematica\n",
    "\n",
    "RDKit          2D\n",
    "\n",
    "22 25  0  0  0  0  0  0  0  0999 V2000\n",
    "\n",
    "    RDKit 2D: Dies ist ein Kommentarzeichen, das darauf hinweist, dass der MOL-Block von RDKit generiert wurde und die Molekülstruktur 2D ist.\n",
    "\n",
    "    22 25 0 0 0 0 0 0 0 0999 V2000: Diese Zeile gibt grundlegende Informationen über das Molekül an. Hier bedeutet es:\n",
    "        22: Anzahl der Atome im Molekül\n",
    "        25: Anzahl der Bindungen im Molekül\n",
    "        0: Anzahl der nicht-Standard-Atomtypen (normalerweise 0 für organische Moleküle)\n",
    "        0: Anzahl der SDF- (Structure Data File) Eigenschaften (normalerweise 0)\n",
    "        0: Anzahl der 3D-Koordinaten (normalerweise 0 für 2D-Strukturen)\n",
    "        0: Anzahl der 3D-Felder (normalerweise 0)\n",
    "        0: Anzahl der Chiralzentren (normalerweise 0)\n",
    "        0: Anzahl der Stücke\n",
    "        0: Anzahl der Zuschlagstoffe (normalerweise 0)\n",
    "        0999: Molekulargewicht (normalerweise 0)\n",
    "        V2000: Dies ist ein Standardkennzeichen für die Version des MOL-Formats (V2000 steht für die Version 2000).\n",
    "\n",
    "Der Rest des MOL-Blocks enthält Informationen über Atome und Bindungen:\n",
    "\n",
    "mathematica\n",
    "\n",
    "   -6.0000    5.1962    0.0000 C   0  0  0  0  0  0  0  0  0  0  0  0\n",
    "   -5.2500    3.8971    0.0000 N   0  0  0  0  0  0  0  0  0  0  0  0\n",
    "   ...\n",
    "\n",
    "Hier sind die Informationen für jedes Atom:\n",
    "\n",
    "    x, y, z: Koordinaten des Atoms im Raum.\n",
    "    Atomtyp: Hier C steht für Kohlenstoff, N für Stickstoff, O für Sauerstoff, etc.\n",
    "    Verschiedene Nullen: Diese repräsentieren verschiedene Attribute, die normalerweise 0 für organische Moleküle sind.\n",
    "\n",
    "Die Bindungsinformationen folgen:\n",
    "\n",
    "  1  2  1  0\n",
    "  2  3  1  0\n",
    "  2  4  1  0\n",
    "  4  5  2  0\n",
    "  ...\n",
    "\n",
    "Hier bedeutet jede Zeile, dass es eine Bindung zwischen den entsprechenden Atomen gibt. Zum Beispiel bedeutet 1 2 1 0, dass es eine Einfachbindung (1) zwischen Atom 1 und Atom 2 gibt.\n",
    "\n",
    "Der MOL-Block endet mit M END, was das Ende des MOL-Blocks signalisiert. Der MOL-Block enthält grundlegende Informationen über das Molekül, die für die Visualisierung und Analyse verwendet werden können."
   ]
  },
  {
   "cell_type": "code",
   "execution_count": 1,
   "metadata": {},
   "outputs": [
    {
     "name": "stdout",
     "output_type": "stream",
     "text": [
      "Scheiße\n"
     ]
    }
   ],
   "source": [
    "print(\"Scheiße\")"
   ]
  }
 ],
 "metadata": {
  "kernelspec": {
   "display_name": "base",
   "language": "python",
   "name": "python3"
  },
  "language_info": {
   "codemirror_mode": {
    "name": "ipython",
    "version": 3
   },
   "file_extension": ".py",
   "mimetype": "text/x-python",
   "name": "python",
   "nbconvert_exporter": "python",
   "pygments_lexer": "ipython3",
   "version": "3.11.5"
  }
 },
 "nbformat": 4,
 "nbformat_minor": 2
}
