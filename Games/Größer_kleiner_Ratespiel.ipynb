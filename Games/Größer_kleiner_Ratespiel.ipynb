{
 "cells": [
  {
   "attachments": {},
   "cell_type": "markdown",
   "metadata": {},
   "source": [
    "– Programm wählt eine Zufallszahl zw. 1 und 10\n",
    "\n",
    "– User darf so lange raten bis die richtige Zahl gefunden ist\n",
    "\n",
    "– Programm teilt mit, ob eingegebene Zahl größer od. kleiner als die Zufallszahl ist"
   ]
  },
  {
   "cell_type": "code",
   "execution_count": 12,
   "metadata": {},
   "outputs": [
    {
     "name": "stdout",
     "output_type": "stream",
     "text": [
      "Ihr Zahl 4 ist kleiner als 10\n",
      "Versuch es nochmal\n",
      "Ihre Zahl ist nicht zwischen 1 und 10\n",
      "Ihr Zahl 4 ist kleiner als 5\n",
      "Versuch es nochmal\n",
      "Ihr Zahl 5 ist kleiner als 9\n",
      "Versuch es nochmal\n",
      "Ihr Zahl 5 ist größer als 3\n",
      "Versuch es nochmal\n",
      "Ihr Zahl 5 ist kleiner als 10\n",
      "Versuch es nochmal\n",
      "Ihr Zahl 5 ist größer als 2\n",
      "Versuch es nochmal\n",
      "Ihr Zahl 5 ist größer als 2\n",
      "Versuch es nochmal\n",
      "Ihr Zahl 5 ist kleiner als 7\n",
      "Versuch es nochmal\n",
      "Ihr Zahl 5 ist größer als 4\n",
      "Versuch es nochmal\n",
      "Ihr Zahl 3 ist kleiner als 6\n",
      "Versuch es nochmal\n",
      "Ihr Zahl 4 ist kleiner als 8\n",
      "Versuch es nochmal\n",
      "Ihr Zahl 2 ist größer als 1\n",
      "Versuch es nochmal\n",
      "Ihr Zahl 3 ist kleiner als 5\n",
      "Versuch es nochmal\n",
      "Ihr Zahl 4 ist größer als 1\n",
      "Versuch es nochmal\n",
      "Die Zahlen sind gleich\n"
     ]
    }
   ],
   "source": [
    "from random import randint\n",
    "\n",
    "while True:\n",
    "    x = int(input(\"Geben sie hier ihre Zahl ein: \"))\n",
    "\n",
    "    if x <= 0 or x >= 11:\n",
    "        print(\"Ihre Zahl ist nicht zwischen 1 und 10\")\n",
    "        continue\n",
    "\n",
    "    y = randint(1, 10)\n",
    "\n",
    "    if x == y:\n",
    "        print(\"Die Zahlen sind gleich\")\n",
    "        break\n",
    "\n",
    "    elif x <= y:\n",
    "        print(\"Ihr Zahl \" + str(x) + \" ist kleiner als \" + str(y))\n",
    "        print(\"Versuch es nochmal\")\n",
    "\n",
    "    elif x >= y:\n",
    "        print(\"Ihr Zahl \" + str(x) + \" ist größer als \" + str(y))\n",
    "        print(\"Versuch es nochmal\")"
   ]
  },
  {
   "cell_type": "code",
   "execution_count": null,
   "metadata": {},
   "outputs": [],
   "source": []
  }
 ],
 "metadata": {
  "kernelspec": {
   "display_name": "base",
   "language": "python",
   "name": "python3"
  },
  "language_info": {
   "codemirror_mode": {
    "name": "ipython",
    "version": 3
   },
   "file_extension": ".py",
   "mimetype": "text/x-python",
   "name": "python",
   "nbconvert_exporter": "python",
   "pygments_lexer": "ipython3",
   "version": "3.10.9"
  },
  "orig_nbformat": 4
 },
 "nbformat": 4,
 "nbformat_minor": 2
}
